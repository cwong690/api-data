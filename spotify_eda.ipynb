{
 "cells": [
  {
   "cell_type": "code",
   "execution_count": 1,
   "metadata": {},
   "outputs": [],
   "source": [
    "import numpy as np\n",
    "import pandas as pd\n",
    "import seaborn as sb\n",
    "import matplotlib.pyplot as plt\n",
    "import requests\n",
    "import json\n",
    "import base64\n",
    "\n",
    "from spotify_creds import *\n",
    "\n",
    "%matplotlib inline"
   ]
  },
  {
   "cell_type": "code",
   "execution_count": 14,
   "metadata": {},
   "outputs": [],
   "source": [
    "credentials = f'{client_id}:{client_secret}'\n",
    "credbytes = credentials.encode('ascii')\n",
    "credb64 = base64.b64encode(credbytes)\n",
    "client_data = credb64.decode('ascii')\n",
    "\n",
    "url = 'https://accounts.spotify.com/api/token'\n",
    "headers = {'Authorization': 'Basic ' + client_data}\n",
    "data = {'grant_type': 'client_credentials'}"
   ]
  },
  {
   "cell_type": "code",
   "execution_count": 15,
   "metadata": {},
   "outputs": [],
   "source": [
    "results = requests.post(url, headers=headers, data=data)"
   ]
  },
  {
   "cell_type": "code",
   "execution_count": 17,
   "metadata": {},
   "outputs": [],
   "source": [
    "token = results.json()['access_token']\n",
    "c_headers = {'Authorization': f\"Bearer {token}\"}"
   ]
  },
  {
   "cell_type": "code",
   "execution_count": 71,
   "metadata": {},
   "outputs": [],
   "source": [
    "artist_1 = '196lKsA13K3keVXMDFK66q'\n",
    "\n",
    "artist = requests.get(f'https://api.spotify.com/v1/artists/{artist_1}', headers=c_headers).json()\n",
    "albums = requests.get(f'https://api.spotify.com/v1/artists/{artist_1}/albums', headers=c_headers).json()\n",
    "# top_tracks = requests.get(f'https://api.spotify.com/v1/artists/{artist_1}/top-tracks/', headers=c_headers).json()\n",
    "related_artists = requests.get(f'https://api.spotify.com/v1/artists/{artist_1}/related-artists', headers=c_headers).json()"
   ]
  },
  {
   "cell_type": "code",
   "execution_count": 86,
   "metadata": {},
   "outputs": [
    {
     "data": {
      "text/plain": [
       "dict_keys(['external_urls', 'followers', 'genres', 'href', 'id', 'images', 'name', 'popularity', 'type', 'uri'])"
      ]
     },
     "execution_count": 86,
     "metadata": {},
     "output_type": "execute_result"
    }
   ],
   "source": [
    "related_artists['artists'][0].keys()"
   ]
  },
  {
   "cell_type": "code",
   "execution_count": null,
   "metadata": {},
   "outputs": [],
   "source": []
  }
 ],
 "metadata": {
  "kernelspec": {
   "display_name": "Python 3.10.6 64-bit",
   "language": "python",
   "name": "python3"
  },
  "language_info": {
   "codemirror_mode": {
    "name": "ipython",
    "version": 3
   },
   "file_extension": ".py",
   "mimetype": "text/x-python",
   "name": "python",
   "nbconvert_exporter": "python",
   "pygments_lexer": "ipython3",
   "version": "3.10.6"
  },
  "orig_nbformat": 4,
  "vscode": {
   "interpreter": {
    "hash": "3bb5b538a5a0d6c149b960a97facabd963b6afcdef056c93f2d2175693e7d711"
   }
  }
 },
 "nbformat": 4,
 "nbformat_minor": 2
}
